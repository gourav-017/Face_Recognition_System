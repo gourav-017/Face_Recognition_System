{
 "cells": [
  {
   "cell_type": "code",
   "execution_count": 1,
   "id": "5b5deb3b",
   "metadata": {},
   "outputs": [
    {
     "name": "stdout",
     "output_type": "stream",
     "text": [
      "Microsoft Windows [Version 10.0.22631.3447]\n",
      "(c) Microsoft Corporation. All rights reserved.\n",
      "\n",
      "C:\\Users\\91600\\PycharmProjects\\MINIPROJECT>where python\n",
      "C:\\ProgramData\\anaconda3\\python.exe\n",
      "C:\\Users\\91600\\AppData\\Local\\Microsoft\\WindowsApps\\python.exe\n",
      "\n",
      "C:\\Users\\91600\\PycharmProjects\\MINIPROJECT>"
     ]
    }
   ],
   "source": [
    "%%cmd\n",
    "where python\n"
   ]
  },
  {
   "cell_type": "code",
   "execution_count": 2,
   "id": "dcfc16a3",
   "metadata": {},
   "outputs": [
    {
     "name": "stdout",
     "output_type": "stream",
     "text": [
      "Microsoft Windows [Version 10.0.22631.3447]\n",
      "(c) Microsoft Corporation. All rights reserved.\n",
      "\n",
      "C:\\Users\\91600\\PycharmProjects\\MINIPROJECT>pip install cmake\n",
      "Defaulting to user installation because normal site-packages is not writeable\n",
      "Requirement already satisfied: cmake in c:\\users\\91600\\appdata\\roaming\\python\\python310\\site-packages (3.29.0.1)\n",
      "\n",
      "C:\\Users\\91600\\PycharmProjects\\MINIPROJECT>"
     ]
    }
   ],
   "source": [
    "%%cmd\n",
    "pip install cmake"
   ]
  },
  {
   "cell_type": "code",
   "execution_count": 3,
   "id": "3e73173b",
   "metadata": {},
   "outputs": [
    {
     "name": "stdout",
     "output_type": "stream",
     "text": [
      "Microsoft Windows [Version 10.0.22631.3447]\n",
      "(c) Microsoft Corporation. All rights reserved.\n",
      "\n",
      "C:\\Users\\91600\\PycharmProjects\\MINIPROJECT>python --version\n",
      "Python 3.10.9\n",
      "\n",
      "C:\\Users\\91600\\PycharmProjects\\MINIPROJECT>"
     ]
    }
   ],
   "source": [
    "%%cmd\n",
    "python --version\n"
   ]
  },
  {
   "cell_type": "code",
   "execution_count": 4,
   "id": "5e993226",
   "metadata": {},
   "outputs": [
    {
     "name": "stdout",
     "output_type": "stream",
     "text": [
      "Microsoft Windows [Version 10.0.22631.3447]\n",
      "(c) Microsoft Corporation. All rights reserved.\n",
      "\n",
      "C:\\Users\\91600\\PycharmProjects\\MINIPROJECT>pip install \"C:\\Users\\91600\\Favorites\\Downloads\\dlib-python whl packages-20240406T131321Z-001\\dlib-python whl packages\\dlib-19.22.99-cp310-cp310-win_amd64.whl\"\n",
      "Defaulting to user installation because normal site-packages is not writeable\n",
      "Processing c:\\users\\91600\\favorites\\downloads\\dlib-python whl packages-20240406t131321z-001\\dlib-python whl packages\\dlib-19.22.99-cp310-cp310-win_amd64.whl\n",
      "dlib is already installed with the same version as the provided wheel. Use --force-reinstall to force an installation of the wheel.\n",
      "\n",
      "C:\\Users\\91600\\PycharmProjects\\MINIPROJECT>"
     ]
    }
   ],
   "source": [
    "%%cmd\n",
    "pip install \"C:\\Users\\91600\\Favorites\\Downloads\\dlib-python whl packages-20240406T131321Z-001\\dlib-python whl packages\\dlib-19.22.99-cp310-cp310-win_amd64.whl\""
   ]
  },
  {
   "cell_type": "code",
   "execution_count": 5,
   "id": "df574709",
   "metadata": {},
   "outputs": [
    {
     "name": "stdout",
     "output_type": "stream",
     "text": [
      "Microsoft Windows [Version 10.0.22631.3447]\n",
      "(c) Microsoft Corporation. All rights reserved.\n",
      "\n",
      "C:\\Users\\91600\\PycharmProjects\\MINIPROJECT>pip install face-recognition\n",
      "Defaulting to user installation because normal site-packages is not writeable\n",
      "Requirement already satisfied: face-recognition in c:\\users\\91600\\appdata\\roaming\\python\\python310\\site-packages (1.3.0)\n",
      "Requirement already satisfied: dlib>=19.7 in c:\\users\\91600\\appdata\\roaming\\python\\python310\\site-packages (from face-recognition) (19.22.99)\n",
      "Requirement already satisfied: face-recognition-models>=0.3.0 in c:\\users\\91600\\appdata\\roaming\\python\\python310\\site-packages (from face-recognition) (0.3.0)\n",
      "Requirement already satisfied: Click>=6.0 in c:\\programdata\\anaconda3\\lib\\site-packages (from face-recognition) (8.0.4)\n",
      "Requirement already satisfied: Pillow in c:\\programdata\\anaconda3\\lib\\site-packages (from face-recognition) (9.4.0)\n",
      "Requirement already satisfied: numpy in c:\\programdata\\anaconda3\\lib\\site-packages (from face-recognition) (1.23.5)\n",
      "Requirement already satisfied: colorama in c:\\programdata\\anaconda3\\lib\\site-packages (from Click>=6.0->face-recognition) (0.4.6)\n",
      "\n",
      "C:\\Users\\91600\\PycharmProjects\\MINIPROJECT>"
     ]
    }
   ],
   "source": [
    "%%cmd\n",
    "pip install face-recognition"
   ]
  },
  {
   "cell_type": "code",
   "execution_count": 2,
   "id": "5e3cfb51",
   "metadata": {},
   "outputs": [],
   "source": [
    "import cvzone"
   ]
  },
  {
   "cell_type": "code",
   "execution_count": null,
   "id": "634f8971",
   "metadata": {},
   "outputs": [
    {
     "name": "stdout",
     "output_type": "stream",
     "text": [
      "Loading Encode File ...\n",
      "Encode File Loaded\n",
      "{'last_attendance_time': '2024-04-15 22:34:10', 'major': 'c++', 'name': 'gourav  ', 'standing': 'G', 'starting_year': 2021, 'total_attendance': 5, 'year': 4}\n",
      "58.623743\n",
      "{'last_attendance_time': '2024-04-15 22:35:08', 'major': 'c++', 'name': 'gourav  ', 'standing': 'G', 'starting_year': 2021, 'total_attendance': 6, 'year': 4}\n",
      "3.304595\n",
      "{'last_attendance_time': '2024-04-15 22:35:08', 'major': 'c++', 'name': 'gourav  ', 'standing': 'G', 'starting_year': 2021, 'total_attendance': 6, 'year': 4}\n",
      "4.92425\n",
      "{'last_attendance_time': '2024-04-15 22:35:08', 'major': 'c++', 'name': 'gourav  ', 'standing': 'G', 'starting_year': 2021, 'total_attendance': 6, 'year': 4}\n",
      "6.721893\n",
      "{'last_attendance_time': '2024-04-15 22:35:08', 'major': 'c++', 'name': 'gourav  ', 'standing': 'G', 'starting_year': 2021, 'total_attendance': 6, 'year': 4}\n",
      "8.340452\n",
      "{'last_attendance_time': '2024-04-15 22:33:10', 'major': 'Economics', 'name': 'sudhir', 'standing': 'B', 'starting_year': 2021, 'total_attendance': 13, 'year': 1}\n",
      "128.564781\n",
      "{'last_attendance_time': '2024-04-15 22:35:18', 'major': 'Economics', 'name': 'sudhir', 'standing': 'B', 'starting_year': 2021, 'total_attendance': 14, 'year': 1}\n",
      "2.65177\n",
      "{'last_attendance_time': '2024-04-15 22:35:18', 'major': 'Economics', 'name': 'sudhir', 'standing': 'B', 'starting_year': 2021, 'total_attendance': 14, 'year': 1}\n",
      "5.441316\n",
      "{'last_attendance_time': '2024-04-15 22:35:18', 'major': 'Economics', 'name': 'sudhir', 'standing': 'B', 'starting_year': 2021, 'total_attendance': 14, 'year': 1}\n",
      "6.791058\n",
      "{'last_attendance_time': '2024-04-15 22:35:08', 'major': 'c++', 'name': 'gourav  ', 'standing': 'G', 'starting_year': 2021, 'total_attendance': 6, 'year': 4}\n",
      "19.068759\n",
      "{'last_attendance_time': '2024-04-15 22:35:08', 'major': 'c++', 'name': 'gourav  ', 'standing': 'G', 'starting_year': 2021, 'total_attendance': 6, 'year': 4}\n",
      "20.554073\n",
      "{'last_attendance_time': '2024-04-15 22:35:08', 'major': 'c++', 'name': 'gourav  ', 'standing': 'G', 'starting_year': 2021, 'total_attendance': 6, 'year': 4}\n",
      "22.188862\n",
      "{'last_attendance_time': '2024-04-15 22:35:08', 'major': 'c++', 'name': 'gourav  ', 'standing': 'G', 'starting_year': 2021, 'total_attendance': 6, 'year': 4}\n",
      "23.792599\n",
      "{'last_attendance_time': '2024-04-15 22:35:08', 'major': 'c++', 'name': 'gourav  ', 'standing': 'G', 'starting_year': 2021, 'total_attendance': 6, 'year': 4}\n",
      "25.415226\n",
      "{'last_attendance_time': '2024-04-15 22:35:08', 'major': 'c++', 'name': 'gourav  ', 'standing': 'G', 'starting_year': 2021, 'total_attendance': 6, 'year': 4}\n",
      "27.835732\n",
      "{'last_attendance_time': '2024-04-15 22:35:08', 'major': 'c++', 'name': 'gourav  ', 'standing': 'G', 'starting_year': 2021, 'total_attendance': 6, 'year': 4}\n"
     ]
    }
   ],
   "source": [
    "import os\n",
    "import pickle\n",
    "import numpy as np\n",
    "import cv2\n",
    "import face_recognition\n",
    "import cvzone\n",
    "import firebase_admin\n",
    "from firebase_admin import credentials\n",
    "from firebase_admin import db\n",
    "from firebase_admin import storage\n",
    "import numpy as np\n",
    "from datetime import datetime\n",
    "\n",
    "cred = credentials.Certificate(\"serviceAccountKey.json\")\n",
    "firebase_admin.initialize_app(cred, {\n",
    "    'databaseURL': \"https://faceattendencerealtime-6a0b8-default-rtdb.firebaseio.com/\",\n",
    "    'storageBucket': \"faceattendencerealtime-6a0b8.appspot.com\"\n",
    "})\n",
    "\n",
    "bucket = storage.bucket()\n",
    "\n",
    "cap = cv2.VideoCapture(0)\n",
    "cap.set(3, 640)\n",
    "cap.set(4, 480)\n",
    "\n",
    "imgBackground = cv2.imread('Resources/background.png')\n",
    "\n",
    "# Importing the mode images into a list\n",
    "folderModePath = 'Resources/Modes'\n",
    "modePathList = os.listdir(folderModePath)\n",
    "imgModeList = []\n",
    "for path in modePathList:\n",
    "    imgModeList.append(cv2.imread(os.path.join(folderModePath, path)))\n",
    "# print(len(imgModeList))\n",
    "\n",
    "# Load the encoding file\n",
    "print(\"Loading Encode File ...\")\n",
    "file = open('EncodeFile.p', 'rb')\n",
    "encodeListKnownWithIds = pickle.load(file)\n",
    "file.close()\n",
    "encodeListKnown, studentIds = encodeListKnownWithIds\n",
    "# print(studentIds)\n",
    "print(\"Encode File Loaded\")\n",
    "\n",
    "modeType = 0\n",
    "counter = 0\n",
    "id = -1\n",
    "imgStudent = []\n",
    "\n",
    "while True:\n",
    "    success, img = cap.read()\n",
    "\n",
    "    imgS = cv2.resize(img, (0, 0), None, 0.25, 0.25)\n",
    "    imgS = cv2.cvtColor(imgS, cv2.COLOR_BGR2RGB)\n",
    "\n",
    "    faceCurFrame = face_recognition.face_locations(imgS)\n",
    "    encodeCurFrame = face_recognition.face_encodings(imgS, faceCurFrame)\n",
    "\n",
    "    imgBackground[162:162 + 480, 55:55 + 640] = img\n",
    "    imgBackground[44:44 + 633, 808:808 + 414] = imgModeList[modeType]\n",
    "\n",
    "    if faceCurFrame:\n",
    "        for encodeFace, faceLoc in zip(encodeCurFrame, faceCurFrame):\n",
    "            matches = face_recognition.compare_faces(encodeListKnown, encodeFace)\n",
    "            faceDis = face_recognition.face_distance(encodeListKnown, encodeFace)\n",
    "            # print(\"matches\", matches)\n",
    "            # print(\"faceDis\", faceDis)\n",
    "\n",
    "            matchIndex = np.argmin(faceDis)\n",
    "            # print(\"Match Index\", matchIndex)\n",
    "\n",
    "            if matches[matchIndex]:\n",
    "                # print(\"Known Face Detected\")\n",
    "                # print(studentIds[matchIndex])\n",
    "                y1, x2, y2, x1 = faceLoc\n",
    "                y1, x2, y2, x1 = y1 * 4, x2 * 4, y2 * 4, x1 * 4\n",
    "                bbox = 55 + x1, 162 + y1, x2 - x1, y2 - y1\n",
    "                imgBackground = cvzone.cornerRect(imgBackground, bbox, rt=0)\n",
    "                id = studentIds[matchIndex]\n",
    "                if counter == 0:\n",
    "                    cvzone.putTextRect(imgBackground, \"Loading\", (275, 400))\n",
    "                    cv2.imshow(\"Face Attendance\", imgBackground)\n",
    "                    cv2.waitKey(1)\n",
    "                    counter = 1\n",
    "                    modeType = 1\n",
    "\n",
    "        if counter != 0:\n",
    "\n",
    "            if counter == 1:\n",
    "                # Get the Data\n",
    "                studentInfo = db.reference(f'Students/{id}').get()\n",
    "                print(studentInfo)\n",
    "                # Get the Image from the storage\n",
    "                blob = bucket.get_blob(f'Images/{id}.png')\n",
    "                array = np.frombuffer(blob.download_as_string(), np.uint8)\n",
    "                imgStudent = cv2.imdecode(array, cv2.COLOR_BGRA2BGR)\n",
    "                # Update data of attendance\n",
    "                datetimeObject = datetime.strptime(studentInfo['last_attendance_time'],\n",
    "                                                   \"%Y-%m-%d %H:%M:%S\")\n",
    "                secondsElapsed = (datetime.now() - datetimeObject).total_seconds()\n",
    "                print(secondsElapsed)\n",
    "                if secondsElapsed > 30:\n",
    "                    ref = db.reference(f'Students/{id}')\n",
    "                    studentInfo['total_attendance'] += 1\n",
    "                    ref.child('total_attendance').set(studentInfo['total_attendance'])\n",
    "                    ref.child('last_attendance_time').set(datetime.now().strftime(\"%Y-%m-%d %H:%M:%S\"))\n",
    "                else:\n",
    "                    modeType = 3\n",
    "                    counter = 0\n",
    "                    imgBackground[44:44 + 633, 808:808 + 414] = imgModeList[modeType]\n",
    "\n",
    "            if modeType != 3:\n",
    "\n",
    "                if 10 < counter < 20:\n",
    "                    modeType = 2\n",
    "\n",
    "                imgBackground[44:44 + 633, 808:808 + 414] = imgModeList[modeType]\n",
    "\n",
    "                if counter <= 10:\n",
    "                    cv2.putText(imgBackground, str(studentInfo['total_attendance']), (861, 125),\n",
    "                                cv2.FONT_HERSHEY_COMPLEX, 1, (255, 255, 255), 1)\n",
    "                    cv2.putText(imgBackground, str(studentInfo['major']), (1006, 550),\n",
    "                                cv2.FONT_HERSHEY_COMPLEX, 0.5, (255, 255, 255), 1)\n",
    "                    cv2.putText(imgBackground, str(id), (1006, 493),\n",
    "                                cv2.FONT_HERSHEY_COMPLEX, 0.5, (255, 255, 255), 1)\n",
    "                    cv2.putText(imgBackground, str(studentInfo['standing']), (910, 625),\n",
    "                                cv2.FONT_HERSHEY_COMPLEX, 0.6, (100, 100, 100), 1)\n",
    "                    cv2.putText(imgBackground, str(studentInfo['year']), (1025, 625),\n",
    "                                cv2.FONT_HERSHEY_COMPLEX, 0.6, (100, 100, 100), 1)\n",
    "                    cv2.putText(imgBackground, str(studentInfo['starting_year']), (1125, 625),\n",
    "                                cv2.FONT_HERSHEY_COMPLEX, 0.6, (100, 100, 100), 1)\n",
    "\n",
    "                    (w, h), _ = cv2.getTextSize(studentInfo['name'], cv2.FONT_HERSHEY_COMPLEX, 1, 1)\n",
    "                    offset = (414 - w) // 2\n",
    "                    cv2.putText(imgBackground, str(studentInfo['name']), (808 + offset, 445),\n",
    "                                cv2.FONT_HERSHEY_COMPLEX, 1, (50, 50, 50), 1)\n",
    "\n",
    "                    imgBackground[175:175 + 216, 909:909 + 216] = imgStudent\n",
    "\n",
    "                counter += 1\n",
    "\n",
    "                if counter >= 20:\n",
    "                    counter = 0\n",
    "                    modeType = 0\n",
    "                    studentInfo = []\n",
    "                    imgStudent = []\n",
    "                    imgBackground[44:44 + 633, 808:808 + 414] = imgModeList[modeType]\n",
    "    else:\n",
    "        modeType = 0\n",
    "        counter = 0\n",
    "    # cv2.imshow(\"Webcam\", img)\n",
    "    cv2.imshow(\"Face Attendance\", imgBackground)\n",
    "    cv2.waitKey(5)"
   ]
  },
  {
   "cell_type": "code",
   "execution_count": null,
   "id": "a92a7471",
   "metadata": {},
   "outputs": [],
   "source": []
  },
  {
   "cell_type": "code",
   "execution_count": null,
   "id": "f6f9871e",
   "metadata": {},
   "outputs": [],
   "source": []
  },
  {
   "cell_type": "code",
   "execution_count": null,
   "id": "20e43366",
   "metadata": {},
   "outputs": [],
   "source": []
  },
  {
   "cell_type": "code",
   "execution_count": null,
   "id": "870affd4",
   "metadata": {},
   "outputs": [],
   "source": []
  },
  {
   "cell_type": "code",
   "execution_count": null,
   "id": "247f555a",
   "metadata": {},
   "outputs": [],
   "source": []
  }
 ],
 "metadata": {
  "kernelspec": {
   "display_name": "Python 3 (ipykernel)",
   "language": "python",
   "name": "python3"
  },
  "language_info": {
   "codemirror_mode": {
    "name": "ipython",
    "version": 3
   },
   "file_extension": ".py",
   "mimetype": "text/x-python",
   "name": "python",
   "nbconvert_exporter": "python",
   "pygments_lexer": "ipython3",
   "version": "3.10.9"
  }
 },
 "nbformat": 4,
 "nbformat_minor": 5
}
